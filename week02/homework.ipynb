{
 "cells": [
  {
   "cell_type": "markdown",
   "id": "89e4da53",
   "metadata": {},
   "source": [
    "# Домашнее задание\n",
    "\n",
    "- [1. Построение мел спектрограммы](##1.)\n",
    "- [2. Анализ мел спектрограмм.](##2.-Анализ.)\n",
    "- [3. Классификация музыкальных жанров.](##Классификация-музыкальных-жанров.)\n"
   ]
  },
  {
   "cell_type": "code",
   "execution_count": 1,
   "id": "ed556036",
   "metadata": {},
   "outputs": [],
   "source": [
    "from matplotlib import pyplot as plt\n",
    "from IPython.display import Audio\n",
    "\n",
    "import torch\n",
    "import torchaudio\n",
    "\n",
    "import numpy as np"
   ]
  },
  {
   "cell_type": "markdown",
   "id": "9bdc7291",
   "metadata": {},
   "source": [
    "## Построение мел спектрограммы"
   ]
  },
  {
   "cell_type": "markdown",
   "id": "af1d5234",
   "metadata": {},
   "source": [
    "Загрузите wav файл и постройте спектрограмму. "
   ]
  },
  {
   "cell_type": "code",
   "execution_count": null,
   "id": "4ca619b9",
   "metadata": {},
   "outputs": [],
   "source": [
    "wav, sr = torchaudio.load('female.wav')"
   ]
  },
  {
   "cell_type": "code",
   "execution_count": null,
   "id": "4a3e973c",
   "metadata": {},
   "outputs": [],
   "source": [
    "Audio(wav, rate=sr)"
   ]
  },
  {
   "cell_type": "markdown",
   "id": "79fde2c3",
   "metadata": {},
   "source": [
    "Для построения спектра используйте следующие константы:\n",
    "\n",
    " - N_FFT - размер дискретного преобразования Фурье\n",
    " - HOP_LEN - длина шага между соседними окнами\n",
    " - WIN_LEN - размер окна\n",
    " - N_MELS - количество бинов при переводе спектрограммы в мел-шкалу "
   ]
  },
  {
   "cell_type": "code",
   "execution_count": null,
   "id": "7fe5032f",
   "metadata": {},
   "outputs": [],
   "source": [
    "N_FFT = 1024\n",
    "HOP_LEN = 256\n",
    "WIN_LEN = 1024\n",
    "N_MELS=80"
   ]
  },
  {
   "cell_type": "markdown",
   "id": "77832adc",
   "metadata": {},
   "source": [
    "## 1. Построение мел спектрограммы. [3 балла] \n",
    "\n",
    "    Напишите функцию, принимающую волну, sample rate и возвращающую мел спектрограмму. \n",
    "    Функция должна последовательно производить следующие действия:  [3 балла] \n",
    " - Вычисление спектрограммы с дисретным преобразованием Фурье [``` torch.stft```](https://pytorch.org/docs/stable/generated/torch.stft.html) с предложенными выше параметрами и ```center=False``` - не добавляем нули для центрирования спектра и  ```onesided=True``` - берем только половину коэффициентов Фурье в силу их [симметричности](https://ru.dsplib.org/content/dft_prop/dft_prop.html) . \n",
    " - взятие магнитуды спектра - квадрата нормы комплексных чисел полученных из ``` torch.stft``` \n",
    " - Перевод в мел шкалу ```torchaudio.transforms.MelScale``` с параметрами ```n_mels=N_MELS``` и ```n_stft=N_FFT // 2 + 1``` в соответствии с размером спектрограммы."
   ]
  },
  {
   "cell_type": "code",
   "execution_count": null,
   "id": "afb91526",
   "metadata": {},
   "outputs": [],
   "source": [
    "def build_melspectrogram(wav, sr, n_fft=N_FFT, hop_len=HOP_LEN, win_len=WIN_LEN, n_mels=N_MELS):\n",
    "    ### YOUR CODE ### \n",
    "    \n",
    "    return mel_spectrogram"
   ]
  },
  {
   "cell_type": "code",
   "execution_count": null,
   "id": "0bb76b34",
   "metadata": {},
   "outputs": [],
   "source": [
    "mel = build_melspectrogram(wav, sr)"
   ]
  },
  {
   "cell_type": "markdown",
   "id": "cc71fb61",
   "metadata": {},
   "source": [
    "Для проверки используйте готовую реализацию из torchaudio:"
   ]
  },
  {
   "cell_type": "code",
   "execution_count": null,
   "id": "59f19c79",
   "metadata": {},
   "outputs": [],
   "source": [
    "featurizer = torchaudio.transforms.MelSpectrogram(\n",
    "    sample_rate=sr,\n",
    "    n_fft=N_FFT,\n",
    "    win_length=WIN_LEN,\n",
    "    hop_length=HOP_LEN,\n",
    "    n_mels=N_MELS,\n",
    "    window_fn=torch.hann_window,\n",
    "    center=False\n",
    ")\n",
    "mel2 = featurizer(wav)"
   ]
  },
  {
   "cell_type": "code",
   "execution_count": null,
   "id": "90481ad6",
   "metadata": {},
   "outputs": [],
   "source": [
    "torch.allclose(mel, mel2)"
   ]
  },
  {
   "cell_type": "markdown",
   "id": "b3cfcbe1",
   "metadata": {},
   "source": [
    "## 2. Анализ мел спектрограмм. [5 баллов]\n",
    "\n",
    "   - Визуализируйте мел спектрограмму с помощью ```plt.imshow```. Показательно ли изображение? Преобразуйте его так, чтобы значения стали в более узком диапазоне.\n",
    "   - Визуализируйте мел спектрограмму с различными значениями ```hop_len``` и ```n_fft```. На что влияет параметр hop_len? Что будет, если уменьшить n_fft и win_len в 2 раза? Как вы думаете, почему? Насколько имеет смысл увеличивать num_mels? Почему? \n",
    "   - Сравните мел спектрограммы женского и мужского голоса ```female.wav``` и ```male.wav```. \n",
    "    Для адекватного сравнения приведите единые параметры цветовой схемы vmin, vmax (для этого посчитайте минимум и максимум мел спектрограмм).\n",
    "   - Добавьте к аудио речи шум двух видов - белый шум ```noise.wav``` и последовательность нот ```notes.wav```. (Для этого нужно сложить обе волны, приведя их к одной длине.)\n",
    "   - Визуализируйте мелспектрограммы аудио с добавленным шумом. Что можно сказать о наложенном шуме первого и второго вида? Почему они различны? \n",
    "    "
   ]
  },
  {
   "cell_type": "code",
   "execution_count": null,
   "id": "f5d77373",
   "metadata": {},
   "outputs": [],
   "source": [
    "wav, st = torchaudio.load(\"female.wav\")"
   ]
  },
  {
   "cell_type": "code",
   "execution_count": null,
   "id": "cdcf1796",
   "metadata": {},
   "outputs": [],
   "source": [
    "mel = build_melspectrogram(wav, sr, n_fft=N_FFT, hop_len=HOP_LEN, win_len=WIN_LEN, n_mels=N_MELS)"
   ]
  },
  {
   "cell_type": "code",
   "execution_count": null,
   "id": "85b104cb",
   "metadata": {},
   "outputs": [],
   "source": [
    "plt.figure(figsize=(20, 5))\n",
    "\n",
    "## YOUR CODE\n",
    "\n",
    "plt.xlabel('Time', size=20)\n",
    "plt.ylabel('Mels', size=20)\n",
    "plt.show()"
   ]
  },
  {
   "cell_type": "markdown",
   "id": "19c9701c",
   "metadata": {},
   "source": [
    "## 3. Классификация музыкальных жанров [12 баллов]"
   ]
  },
  {
   "cell_type": "markdown",
   "id": "c983aa73",
   "metadata": {},
   "source": [
    "- В этом задании вам предлагается решить задачу классификации аудио по музыкальным жанрам.\n",
    "  Вы можете взять за основу решение задачи AudioMnist, обучив нейронную сеть на мел-спектрограммах. \n",
    "  Но вы можете этим не ограничиваться и решить задачу любым удобным для вас способом.\n",
    "  \n",
    "  Будьте внимательны при обработке данных и построении мел спектрограммы, обращая внимание на такие параметры как sample rate.\n",
    " - Разбейте данные, используя 90 % на трейн и 10% на валидацию.\n",
    " - Критерии оценки: достижение Accuracy score на валидации:\n",
    "     - 0.3  - [5 баллов]\n",
    "     - 0.4  - [6 баллов]\n",
    "     - 0.5  - [7 баллов] \n",
    "     - 0.6 - [10 баллов] \n",
    "     - 0.7  - [12 баллов]\n",
    " - Проанализируйте ошибки модели, на каких классах ошибок больше? Как вы думаете, почему? [bonus points]"
   ]
  },
  {
   "cell_type": "markdown",
   "id": "7a5336e6",
   "metadata": {},
   "source": [
    "Скачайте данные:"
   ]
  },
  {
   "cell_type": "code",
   "execution_count": null,
   "id": "e48fccd0",
   "metadata": {},
   "outputs": [],
   "source": [
    "!wget --load-cookies /tmp/cookies.txt \"https://docs.google.com/uc?export=download&confirm=$(wget --quiet --save-cookies /tmp/cookies.txt --keep-session-cookies --no-check-certificate 'https://docs.google.com/uc?export=download&id=1yqzjzzg30NTLwZIsBiAJEZxzvK9Dc4zw' -O- | sed -rn 's/.*confirm=([0-9A-Za-z_]+).*/\\1\\n/p')&id=1yqzjzzg30NTLwZIsBiAJEZxzvK9Dc4zw\" -O music.zip && rm -rf /tmp/cookies.txt"
   ]
  },
  {
   "cell_type": "markdown",
   "id": "13d97e51",
   "metadata": {},
   "source": [
    "Разорхивируйте архив"
   ]
  },
  {
   "cell_type": "code",
   "execution_count": null,
   "id": "6d8c7062",
   "metadata": {
    "scrolled": true
   },
   "outputs": [],
   "source": [
    "!unzip /home/darima/Downloads/music.zip"
   ]
  },
  {
   "cell_type": "markdown",
   "id": "4e98c3c6",
   "metadata": {},
   "source": [
    "Удалите битый файл"
   ]
  },
  {
   "cell_type": "code",
   "execution_count": null,
   "id": "2ab62b6b",
   "metadata": {},
   "outputs": [],
   "source": [
    "!rm Data/genres_original/jazz/jazz.00054.wav"
   ]
  },
  {
   "cell_type": "markdown",
   "id": "b778d010",
   "metadata": {},
   "source": [
    "Данные хранятся в папках вида `Data/genres_original/hiphop/hiphop.00073.wav`\n",
    "Создадим словарь вида {genre:id} для кодирования класса."
   ]
  },
  {
   "cell_type": "code",
   "execution_count": null,
   "id": "e26e7617",
   "metadata": {},
   "outputs": [],
   "source": [
    "import pathlib\n",
    "from collections import defaultdict\n",
    "genres = defaultdict(list)"
   ]
  },
  {
   "cell_type": "code",
   "execution_count": null,
   "id": "8998e153",
   "metadata": {},
   "outputs": [],
   "source": [
    "PATH_TO_DATA = \"Data/\""
   ]
  },
  {
   "cell_type": "code",
   "execution_count": null,
   "id": "1c999de7",
   "metadata": {},
   "outputs": [],
   "source": [
    "paths = list(pathlib.Path(PATH_TO_DATA).rglob('*.wav'))\n",
    "for path in paths:\n",
    "    genre = path.as_posix().split(\"/\")[-2]\n",
    "    genres[genre].append(path)"
   ]
  },
  {
   "cell_type": "code",
   "execution_count": null,
   "id": "b611b85d",
   "metadata": {},
   "outputs": [],
   "source": [
    "genres_to_id = {genre: i for i, genre in enumerate(genres.keys())}"
   ]
  },
  {
   "cell_type": "code",
   "execution_count": null,
   "id": "b19383f0",
   "metadata": {},
   "outputs": [],
   "source": [
    "genres_to_id"
   ]
  },
  {
   "cell_type": "code",
   "execution_count": null,
   "id": "e4a9bb5a",
   "metadata": {},
   "outputs": [],
   "source": []
  }
 ],
 "metadata": {
  "kernelspec": {
   "display_name": "Python 3 (ipykernel)",
   "language": "python",
   "name": "python3"
  },
  "language_info": {
   "codemirror_mode": {
    "name": "ipython",
    "version": 3
   },
   "file_extension": ".py",
   "mimetype": "text/x-python",
   "name": "python",
   "nbconvert_exporter": "python",
   "pygments_lexer": "ipython3",
   "version": "3.8.12"
  }
 },
 "nbformat": 4,
 "nbformat_minor": 5
}
