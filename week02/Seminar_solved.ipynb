{
 "cells": [
  {
   "cell_type": "markdown",
   "metadata": {},
   "source": [
    " # Audio mnist classification\n"
   ]
  },
  {
   "cell_type": "markdown",
   "metadata": {},
   "source": [
    "Credits to https://github.com/markovka17/apdl/blob/master/week01/"
   ]
  },
  {
   "cell_type": "code",
   "execution_count": 1,
   "metadata": {},
   "outputs": [],
   "source": [
    "# !pip install torchaudio==0.10"
   ]
  },
  {
   "cell_type": "code",
   "execution_count": 2,
   "metadata": {},
   "outputs": [],
   "source": [
    "from matplotlib import pyplot as plt\n",
    "from IPython import display\n",
    "\n",
    "import torch\n",
    "import torchaudio\n",
    "\n",
    "import numpy as np"
   ]
  },
  {
   "cell_type": "code",
   "execution_count": 3,
   "metadata": {},
   "outputs": [],
   "source": [
    "assert torch.__version__.startswith('1.1'), 'Please, install torch>=1.8'\n",
    "assert torchaudio.__version__.startswith('0.1'), 'Please, install torchaudio>=0.8'"
   ]
  },
  {
   "cell_type": "code",
   "execution_count": 4,
   "metadata": {},
   "outputs": [
    {
     "data": {
      "text/plain": [
       "'0.10.0a0+ab97afa'"
      ]
     },
     "execution_count": 4,
     "metadata": {},
     "output_type": "execute_result"
    }
   ],
   "source": [
    "torchaudio.__version__"
   ]
  },
  {
   "cell_type": "markdown",
   "metadata": {},
   "source": [
    "\n",
    "![](https://i.imgur.com/OX1ADxu.png)\n",
    "\n"
   ]
  },
  {
   "cell_type": "markdown",
   "metadata": {},
   "source": [
    "Uncomment to download data"
   ]
  },
  {
   "cell_type": "code",
   "execution_count": 5,
   "metadata": {},
   "outputs": [],
   "source": [
    "# !wget --load-cookies /tmp/cookies.txt \"https://docs.google.com/uc?export=download&confirm=$(wget --quiet --save-cookies /tmp/cookies.txt --keep-session-cookies --no-check-certificate 'https://docs.google.com/uc?export=download&id=1NlEMrCLzVQE-7p7bwhgXV6_yHhWXJcXm' -O- | sed -rn 's/.*confirm=([0-9A-Za-z_]+).*/\\1\\n/p')&id=1NlEMrCLzVQE-7p7bwhgXV6_yHhWXJcXm\" -O AudioMNIST.zip && rm -rf /tmp/cookies.txt"
   ]
  },
  {
   "cell_type": "markdown",
   "metadata": {},
   "source": [
    "Uncomment to unzip archive"
   ]
  },
  {
   "cell_type": "code",
   "execution_count": 6,
   "metadata": {},
   "outputs": [],
   "source": [
    "# !unzip AudioMNIST.zip"
   ]
  },
  {
   "cell_type": "code",
   "execution_count": 39,
   "metadata": {},
   "outputs": [],
   "source": [
    "from typing import List, Tuple\n",
    "\n",
    "import pathlib\n",
    "from tqdm import tqdm\n",
    "from itertools import islice\n",
    "from collections import defaultdict\n",
    "from IPython.display import Audio\n",
    "\n",
    "import torch\n",
    "import torch.nn.functional as F\n",
    "from torch import nn\n",
    "from torch import optim\n",
    "from torch.utils.data import Dataset, DataLoader, Subset"
   ]
  },
  {
   "cell_type": "markdown",
   "metadata": {},
   "source": [
    "Определим класс AudioMnistDataset для загрузки данных. При загрузке извлечем из названия файла `label` аудио - произносимую цифру - первый символ в аудио до знака \"_\""
   ]
  },
  {
   "cell_type": "code",
   "execution_count": 40,
   "metadata": {},
   "outputs": [],
   "source": [
    "paths = list(pathlib.Path('AudioMNIST/').rglob('?_*_*.wav'))\n",
    "wav, sr = torchaudio.load(paths[0])"
   ]
  },
  {
   "cell_type": "code",
   "execution_count": 41,
   "metadata": {},
   "outputs": [
    {
     "data": {
      "text/html": [
       "\n",
       "                <audio  controls=\"controls\" >\n",
       "                    <source src=\"data:audio/wav;base64,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\" type=\"audio/wav\" />\n",
       "                    Your browser does not support the audio element.\n",
       "                </audio>\n",
       "              "
      ],
      "text/plain": [
       "<IPython.lib.display.Audio object>"
      ]
     },
     "execution_count": 41,
     "metadata": {},
     "output_type": "execute_result"
    }
   ],
   "source": [
    "Audio(wav, rate=sr)"
   ]
  },
  {
   "cell_type": "code",
   "execution_count": 42,
   "metadata": {},
   "outputs": [
    {
     "data": {
      "text/plain": [
       "16000"
      ]
     },
     "execution_count": 42,
     "metadata": {},
     "output_type": "execute_result"
    }
   ],
   "source": [
    "sr"
   ]
  },
  {
   "cell_type": "code",
   "execution_count": 43,
   "metadata": {},
   "outputs": [],
   "source": [
    "SAMPLE_RATE = sr"
   ]
  },
  {
   "cell_type": "code",
   "execution_count": 44,
   "metadata": {},
   "outputs": [],
   "source": [
    "class AudioMnistDataset(Dataset):\n",
    "    SR = SAMPLE_RATE\n",
    "    \n",
    "    \"\"\"\n",
    "    Each wavfile has the following format: digit_speackerid_wavid.wav\n",
    "        For example, 6_01_47.wav:\n",
    "            6 -- the number 6 is spoken\n",
    "            01 -- the number is spoken by 1 speaker\n",
    "            47 -- id of wavfile        \n",
    "    \"\"\"\n",
    "    \n",
    "    def __init__(self, path_to_data: str):\n",
    "        self.path_to_data = pathlib.Path(path_to_data)\n",
    "        self.paths = list(self.path_to_data.rglob('?_*_*.wav'))\n",
    "    \n",
    "    def __getitem__(self, index: int):\n",
    "        path_to_wav = self.paths[index].as_posix()\n",
    "        \n",
    "        # Load wav\n",
    "        wav, sr = torchaudio.load(path_to_wav)\n",
    "        \n",
    "        label = int(path_to_wav.split('/')[-1].split('_')[0])\n",
    "        \n",
    "        return wav, label\n",
    "    \n",
    "    def __len__(self):\n",
    "        return len(self.paths)\n"
   ]
  },
  {
   "cell_type": "code",
   "execution_count": 45,
   "metadata": {},
   "outputs": [],
   "source": [
    "dataset = AudioMnistDataset('AudioMNIST')"
   ]
  },
  {
   "cell_type": "code",
   "execution_count": 46,
   "metadata": {},
   "outputs": [
    {
     "data": {
      "text/plain": [
       "30000"
      ]
     },
     "execution_count": 46,
     "metadata": {},
     "output_type": "execute_result"
    }
   ],
   "source": [
    "len(dataset)"
   ]
  },
  {
   "cell_type": "code",
   "execution_count": 47,
   "metadata": {},
   "outputs": [
    {
     "data": {
      "text/plain": [
       "9"
      ]
     },
     "execution_count": 47,
     "metadata": {},
     "output_type": "execute_result"
    }
   ],
   "source": [
    "wav, label = dataset[123]\n",
    "label"
   ]
  },
  {
   "cell_type": "markdown",
   "metadata": {},
   "source": [
    "Разобъем датасет на датасеты для трейна и валидации."
   ]
  },
  {
   "cell_type": "code",
   "execution_count": 48,
   "metadata": {},
   "outputs": [],
   "source": [
    "train_ratio = 0.9\n",
    "train_size = int(len(dataset) * train_ratio)\n",
    "validation_size = len(dataset) - train_size\n",
    "\n",
    "indexes = torch.randperm(len(dataset))\n",
    "train_indexes = indexes[:train_size]\n",
    "validation_indexes = indexes[train_size:]\n",
    "\n",
    "train_dataset = Subset(dataset, train_indexes)\n",
    "validation_dataset = Subset(dataset, validation_indexes)"
   ]
  },
  {
   "cell_type": "code",
   "execution_count": 49,
   "metadata": {},
   "outputs": [],
   "source": [
    "assert not set(train_indexes.tolist()).intersection(set(validation_indexes.tolist()))"
   ]
  },
  {
   "cell_type": "markdown",
   "metadata": {},
   "source": [
    "Класс Collator объединяет аудиодорожки в один батч. Так как в нашей задаче все аудио разной длины, для того чтобы собрать в батч, заполним недостающее нулями (сделаем паддинг). Для этого создадим тензор из нулей размера `[batch_size, max_wav_len]` и заполним его элементами батча."
   ]
  },
  {
   "cell_type": "code",
   "execution_count": 50,
   "metadata": {},
   "outputs": [],
   "source": [
    "class Collator:\n",
    "    \n",
    "    def __call__(self, batch: List[Tuple[torch.Tensor, int]]):\n",
    "        lengths = []\n",
    "        wavs, labels = zip(*batch)\n",
    "        \n",
    "        for wav in wavs:\n",
    "            lengths.append(wav.size(-1))\n",
    "        \n",
    "        max_len = max(lengths)\n",
    "        batch_wavs = torch.zeros(len(batch), max_len)\n",
    "        for i, (wav, length) in enumerate(zip(wavs, lengths)):\n",
    "            batch_wavs[i, :length] = wav.squeeze()\n",
    "            \n",
    "        labels = torch.tensor(labels).long()\n",
    "        lengths = torch.tensor(lengths).long()\n",
    "        \n",
    "        return {\n",
    "            'wav': batch_wavs,\n",
    "            'label': labels,\n",
    "            'length': lengths,\n",
    "        }"
   ]
  },
  {
   "cell_type": "code",
   "execution_count": 51,
   "metadata": {},
   "outputs": [],
   "source": [
    "train_dataloader = DataLoader(\n",
    "    train_dataset, batch_size=32,\n",
    "    shuffle=True, collate_fn=Collator(),\n",
    "    num_workers=2, pin_memory=True\n",
    ")\n",
    "\n",
    "validation_dataloader = DataLoader(\n",
    "    validation_dataset, batch_size=32,\n",
    "    collate_fn=Collator(),\n",
    "    num_workers=2, pin_memory=True\n",
    ")"
   ]
  },
  {
   "cell_type": "markdown",
   "metadata": {},
   "source": [
    "Класс Featurizer делает необходимый в нашей задаче препроцессинг - считаем мел спектрограмму, логарифмирует ее и считает длину спектрограммы."
   ]
  },
  {
   "cell_type": "code",
   "execution_count": 52,
   "metadata": {},
   "outputs": [],
   "source": [
    "NUM_MELS = 80\n",
    "HOP_LEN = 256\n",
    "N_FFT = 1024\n",
    "WIN_LEN = N_FFT"
   ]
  },
  {
   "cell_type": "code",
   "execution_count": 53,
   "metadata": {},
   "outputs": [],
   "source": [
    "class Featurizer(nn.Module):\n",
    "    \n",
    "    def __init__(self):\n",
    "        super(Featurizer, self).__init__()\n",
    "        \n",
    "        self.featurizer = torchaudio.transforms.MelSpectrogram(\n",
    "            sample_rate=SAMPLE_RATE,\n",
    "            n_fft=N_FFT,\n",
    "            win_length=WIN_LEN,\n",
    "            hop_length=HOP_LEN,\n",
    "            n_mels=NUM_MELS,\n",
    "        )\n",
    "        \n",
    "    def forward(self, wav, length=None):\n",
    "        mel_spectrogram = self.featurizer(wav)\n",
    "        mel_spectrogram = mel_spectrogram.clamp(min=1e-5).log()\n",
    "        \n",
    "        if length is not None:\n",
    "            length = (length - self.featurizer.win_length) // self.featurizer.hop_length\n",
    "            # We add `4` because in MelSpectrogram center==True\n",
    "            length += 1 + 4\n",
    "            \n",
    "            return mel_spectrogram, length\n",
    "        \n",
    "        return mel_spectrogram\n"
   ]
  },
  {
   "cell_type": "markdown",
   "metadata": {},
   "source": [
    " - В модель приходит батч размера [batch_size, num_mels, seq_len].\n",
    " - В начале используем последовательность одномерных сверточных слоев с Relu активацией.\n",
    " - После следует реккурентный блок lstm. Он возвращает кортеж тензоров `out, (hn, cn)`, где `out` - скрытые состояния для всех элементов последовательности, `h_n, c_n` - скрытое состояние и cell state последнего элемента последовательности.\n",
    "Так как длина последовательности, то есть длина спектрограммы всегда различна, для классификации будем использовать скрытое состояние последнего элемента последовательности, как содержащее главную информацию о всей последовательности. При этом мы теряем информацию о каждом элементе последовательности, что в данной задаче некритично. Но для более сложной задачил лучше использовать `out`, аггрегировав его(усреднив или просуммировав) вдоль размерности seq_len `out.mean(dim=1).`\n",
    "\n",
    "- Последний слой - слой для классификации, возвращающий тензор размера `[batch_size, NUM_CLASSES]`.\n"
   ]
  },
  {
   "cell_type": "code",
   "execution_count": 59,
   "metadata": {},
   "outputs": [],
   "source": [
    "class Model(nn.Module):\n",
    "    \n",
    "    def __init__(self, input_dim, num_channels):\n",
    "        super().__init__()\n",
    "        self.input_dim = input_dim\n",
    "        self.num_channels = num_channels\n",
    "\n",
    "        self.convolutions = nn.Sequential(\n",
    "            nn.Conv1d(in_channels=input_dim, out_channels=num_channels, kernel_size=3, stride=1),\n",
    "            nn.ReLU(),\n",
    "            nn.Conv1d(in_channels=num_channels, out_channels=num_channels, kernel_size=3, stride=1),\n",
    "            nn.ReLU(),\n",
    "        )\n",
    "\n",
    "        self.rnn = nn.LSTM(input_size=num_channels, hidden_size=num_channels, batch_first=True)\n",
    "\n",
    "        self.clf = nn.Linear(num_channels, 10)\n",
    "    \n",
    "    def forward(self, inputs, length=None):\n",
    "        # inputs of shape [batch_size, num_mels, seq_len]\n",
    "        x  = self.convolutions(inputs)  # x [batch_size, num_channels, seq_len]\n",
    "        \n",
    "        x = x.transpose(1, 2) # x [batch_size, seq_len, num_channels]\n",
    "\n",
    "        out, (hn, cn) = self.rnn(x) # h_n of shape [1, batch_size, hidden_size]\n",
    "\n",
    "        hn = hn.squeeze(0) # h_n of shape [batch_size, hidden_size]\n",
    "\n",
    "        logits = self.clf(hn)\n",
    "        return logits"
   ]
  },
  {
   "cell_type": "markdown",
   "metadata": {},
   "source": [
    "Зададим параметры модели и оптимизатора и функцию потерь"
   ]
  },
  {
   "cell_type": "code",
   "execution_count": 60,
   "metadata": {},
   "outputs": [],
   "source": [
    "device = torch.device('cuda') if torch.cuda.is_available() else torch.device('cpu')\n",
    "\n",
    "model = Model(input_dim=NUM_MELS, num_channels=32).to(device)\n",
    "featurizer = Featurizer().to(device)\n",
    "\n",
    "optimizer = optim.Adam(model.parameters(), lr=1e-3, weight_decay=1e-5)\n",
    "criterion = nn.CrossEntropyLoss()"
   ]
  },
  {
   "cell_type": "markdown",
   "metadata": {},
   "source": [
    "\n",
    "\n",
    "Создадим класс для подсчета метрики "
   ]
  },
  {
   "cell_type": "code",
   "execution_count": 61,
   "metadata": {},
   "outputs": [],
   "source": [
    "class AverageMeter(object):\n",
    "    \"\"\"\n",
    "    Computes and stores the average and current value\n",
    "    \"\"\"\n",
    "    \n",
    "    def __init__(self):\n",
    "        self.reset()\n",
    "\n",
    "    def reset(self):\n",
    "        self.val = 0\n",
    "        self.avg = 0\n",
    "        self.sum = 0\n",
    "        self.count = 0\n",
    "\n",
    "    def update(self, val, n=1):\n",
    "        self.val = val\n",
    "        self.sum += val * n\n",
    "        self.count += n\n",
    "        self.avg = self.sum / self.count\n"
   ]
  },
  {
   "cell_type": "code",
   "execution_count": 62,
   "metadata": {},
   "outputs": [],
   "source": [
    "storage = defaultdict(list)\n",
    "num_epoch = 10"
   ]
  },
  {
   "cell_type": "code",
   "execution_count": 28,
   "metadata": {
    "scrolled": false
   },
   "outputs": [
    {
     "data": {
      "image/png": "[encoded data removed]",
      "text/plain": [
       "<Figure size 1440x360 with 3 Axes>"
      ]
     },
     "metadata": {
      "needs_background": "light"
     },
     "output_type": "display_data"
    }
   ],
   "source": [
    "for epoch in range(num_epoch):\n",
    "    train_loss_meter = AverageMeter()\n",
    "    print(f\"Epoch {epoch} out of {num_epoch}\")\n",
    "\n",
    "    model.train()\n",
    "    for i, batch in enumerate(tqdm(train_dataloader)):\n",
    "        # Move batch to device if device != 'cpu'\n",
    "        wav = batch['wav'].to(device)\n",
    "        length = batch['length'].to(device)\n",
    "        label = batch['label'].to(device)\n",
    "\n",
    "        # Compute mel spectrogram\n",
    "        mel, mel_length = featurizer(wav, length)\n",
    "\n",
    "        # feed model\n",
    "        output = model(mel, mel_length)\n",
    "\n",
    "        # compute loss\n",
    "        loss = criterion(output, label)\n",
    "\n",
    "        # zero out previously computed gradients\n",
    "        optimizer.zero_grad()\n",
    "\n",
    "        # compute gradients\n",
    "        loss.backward()\n",
    "    \n",
    "        # update weights\n",
    "        optimizer.step()\n",
    "\n",
    "        # update metrics\n",
    "        train_loss_meter.update(loss.item())\n",
    "        \n",
    "    storage['train_loss'].append(train_loss_meter.avg)\n",
    "    \n",
    "    validation_loss_meter = AverageMeter()\n",
    "    validation_accuracy_meter = AverageMeter()\n",
    "\n",
    "    model.eval()\n",
    "    for i, batch in islice(enumerate(tqdm(validation_dataloader)), 1):\n",
    "        # Move batch to device if device != 'cpu'\n",
    "        wav = batch['wav'].to(device)\n",
    "        length = batch['length'].to(device)\n",
    "        label = batch['label'].to(device)\n",
    "\n",
    "        # in inference mode we don't need to compute gradients\n",
    "        # so we use `no_grad()` context manager to speed up inference\n",
    "        with torch.no_grad():\n",
    "\n",
    "            mel, mel_length = featurizer(wav, length)\n",
    "            output = model(mel, mel_length)\n",
    "\n",
    "            loss = criterion(output, label)\n",
    "        \n",
    "        # compute accuracy\n",
    "        matches = (output.argmax(dim=-1) == label).float().mean()\n",
    "\n",
    "        validation_loss_meter.update(loss.item())\n",
    "        validation_accuracy_meter.update(matches.item())\n",
    "    \n",
    "    storage['validation_loss'].append(validation_loss_meter.avg)\n",
    "    storage['validation_accuracy'].append(validation_accuracy_meter.avg)\n",
    "    \n",
    "    display.clear_output()\n",
    "    \n",
    "    fig, axes = plt.subplots(1, 3, figsize=(20, 5))\n",
    "\n",
    "    axes[0].plot(storage['train_loss'], label='train_loss')\n",
    "    axes[1].plot(storage['validation_loss'], label='validation_loss')\n",
    "\n",
    "    axes[2].plot(storage['validation_accuracy'], label='validation_accuracy')\n",
    "\n",
    "    for i in range(3):\n",
    "        axes[i].grid()\n",
    "        \n",
    "        axes[i].legend()\n",
    "\n",
    "    plt.show()\n",
    "\n"
   ]
  },
  {
   "cell_type": "code",
   "execution_count": null,
   "metadata": {},
   "outputs": [],
   "source": []
  },
  {
   "cell_type": "code",
   "execution_count": null,
   "metadata": {},
   "outputs": [],
   "source": []
  },
  {
   "cell_type": "code",
   "execution_count": null,
   "metadata": {},
   "outputs": [],
   "source": []
  },
  {
   "cell_type": "code",
   "execution_count": null,
   "metadata": {},
   "outputs": [],
   "source": []
  },
  {
   "cell_type": "code",
   "execution_count": null,
   "metadata": {},
   "outputs": [],
   "source": []
  },
  {
   "cell_type": "code",
   "execution_count": null,
   "metadata": {},
   "outputs": [],
   "source": []
  },
  {
   "cell_type": "code",
   "execution_count": null,
   "metadata": {},
   "outputs": [],
   "source": []
  },
  {
   "cell_type": "code",
   "execution_count": null,
   "metadata": {},
   "outputs": [],
   "source": [
    "\n"
   ]
  }
 ],
 "metadata": {
  "kernelspec": {
   "display_name": "Python 3 (ipykernel)",
   "language": "python",
   "name": "python3"
  },
  "language_info": {
   "codemirror_mode": {
    "name": "ipython",
    "version": 3
   },
   "file_extension": ".py",
   "mimetype": "text/x-python",
   "name": "python",
   "nbconvert_exporter": "python",
   "pygments_lexer": "ipython3",
   "version": "3.8.12"
  },
  "papermill": {
   "duration": 576.112316,
   "end_time": "2020-12-12T15:23:26.723203",
   "environment_variables": {},
   "exception": null,
   "input_path": "__notebook__.ipynb",
   "output_path": "__notebook__.ipynb",
   "parameters": {},
   "start_time": "2020-12-12T15:13:50.610887",
   "version": "2.1.0"
  }
 },
 "nbformat": 4,
 "nbformat_minor": 4
}
